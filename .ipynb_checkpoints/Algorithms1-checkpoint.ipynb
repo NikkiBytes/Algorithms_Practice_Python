{
 "cells": [
  {
   "cell_type": "markdown",
   "id": "55749fc7-9921-4e00-baa6-3e163862fcdb",
   "metadata": {},
   "source": [
    "# Algorithms in Python Practice\n"
   ]
  },
  {
   "cell_type": "code",
   "execution_count": 1,
   "id": "a4d06a68-c197-4806-9205-4a2160e67893",
   "metadata": {},
   "outputs": [],
   "source": [
    "import unittest"
   ]
  },
  {
   "cell_type": "markdown",
   "id": "8754e9a8-95ff-4ab8-9b48-f59ad209ef13",
   "metadata": {},
   "source": [
    "### Problem 1: Sum of a Range of Integers  \n",
    "\n",
    ">Sum of Integers Up To n (integersums.py)  \n",
    ">  \n",
    ">Write a function, add_it_up(), that takes a single integer as input and returns the sum of the integers from zero to the input parameter.  \n",
    ">  \n",
    "> The function should return 0 if a non-integer is passed in.\n",
    "  "
   ]
  },
  {
   "cell_type": "code",
   "execution_count": 26,
   "id": "e4bfb27c-2eed-4316-88cd-2d2b67e68032",
   "metadata": {},
   "outputs": [],
   "source": [
    "def add_it_up(x):\n",
    "    try:\n",
    "        result = sum(range(x+1))\n",
    "    except TypeError:\n",
    "        result =0 \n",
    "        \n",
    "    return result \n",
    "    "
   ]
  },
  {
   "cell_type": "markdown",
   "id": "d84f1386-69d8-43cc-af63-2d039246799e",
   "metadata": {},
   "source": [
    "## Problem 2: Caesar Cipher  \n",
    "\n",
    ">A Caesar cipher is a simple substitution cipher in which each letter of the plain text is substituted with a letter found by moving n places down the alphabet. For example, assume the input plain text is the following: `abcd xyz`  \n",
    ">   \n",
    "> If the shift value, n, is 4, then the encrypted text would be the following:\n",
    "> `efgh bcd`    \n",
    ">  \n",
    ">You are to write a function that accepts two arguments, a plain-text message and a number of letters to shift in the cipher. The function will return an encrypted string with all letters transformed and all punctuation and whitespace remaining unchanged.\n",
    ">  \n",
    ">Note: You can assume the plain text is all lowercase ASCII except for whitespace and punctuation."
   ]
  },
  {
   "cell_type": "code",
   "execution_count": 42,
   "id": "554e8428-e7c7-4cc0-8fbc-be11c2c7cc68",
   "metadata": {},
   "outputs": [],
   "source": [
    "import string\n",
    "\n",
    "def caesar(plain_text, shift_num=1 ):\n",
    "    letters=string.ascii_lowercase\n",
    "    mask=letters[shift_num:]+letters[:shift_num]\n",
    "    trans=str.maketrans(letters, mask)\n",
    "    new_trans=plain_text.translate(trans)\n",
    "    return new_trans"
   ]
  },
  {
   "cell_type": "markdown",
   "id": "c7d8d681-afe5-4efb-b6bc-14e9be75028b",
   "metadata": {},
   "source": [
    "## Test Cases"
   ]
  },
  {
   "cell_type": "code",
   "execution_count": 45,
   "id": "a49e99aa-998e-4474-b2b1-f34b29542fd2",
   "metadata": {},
   "outputs": [
    {
     "name": "stderr",
     "output_type": "stream",
     "text": [
      "..\n",
      "----------------------------------------------------------------------\n",
      "Ran 2 tests in 0.002s\n",
      "\n",
      "OK\n"
     ]
    }
   ],
   "source": [
    "\n",
    "class TestClass(unittest.TestCase):\n",
    "    def test1(self):\n",
    "        self.assertEqual(add_it_up(4),10 )\n",
    "        self.assertEqual(add_it_up(\"wrong type\"), 0 )\n",
    "        \n",
    "    def test2(self):\n",
    "        self.assertEqual(caesar('abc', 2 ), 'cde' )\n",
    "        \n",
    "        \n",
    "if __name__ == '__main__':\n",
    "    unittest.main(argv=['first-arg-is-ignored'], exit=False)\n"
   ]
  },
  {
   "cell_type": "markdown",
   "id": "554a7bdd-fb78-4f2e-b4ef-edf02568285f",
   "metadata": {},
   "source": [
    "---"
   ]
  }
 ],
 "metadata": {
  "kernelspec": {
   "display_name": "Python 3",
   "language": "python",
   "name": "python3"
  },
  "language_info": {
   "codemirror_mode": {
    "name": "ipython",
    "version": 3
   },
   "file_extension": ".py",
   "mimetype": "text/x-python",
   "name": "python",
   "nbconvert_exporter": "python",
   "pygments_lexer": "ipython3",
   "version": "3.8.10"
  }
 },
 "nbformat": 4,
 "nbformat_minor": 5
}
