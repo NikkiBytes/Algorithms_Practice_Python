{
 "cells": [
  {
   "cell_type": "markdown",
   "id": "854171b9-7bd2-44c8-9814-ac147d707de1",
   "metadata": {},
   "source": [
    "# Top Python Data Structures"
   ]
  },
  {
   "cell_type": "markdown",
   "id": "fe6447cb-d775-4fe9-a73c-e6d96a4b0acb",
   "metadata": {},
   "source": [
    "---"
   ]
  },
  {
   "cell_type": "markdown",
   "id": "f23a93ec-8ab1-4f73-82ee-d5365c6412f4",
   "metadata": {},
   "source": [
    "## Arrays  \n",
    "Unlike other languages with static arrays, Python's arrays automatically scale up or down when adding or subtracting elements.  \n",
    "Access elements by <u>index</u>.\n",
    "  \n",
    "**Advantages:**  \n",
    "- simple to use and create  \n",
    "- automatically scales for sizing adjustments  \n",
    "- can be used to create more complex data structures  \n",
    "**Disadvantages:**  \n",
    "- not optimized for scientific data  \n",
    "- can only manipulate the rightmost end of the list  \n",
    "**Common Applications:**  \n",
    "- data collections for quick looping  \n",
    "- storage of data structures, such as a list of tuples  \n",
    "- shared storage of related values or objects  "
   ]
  },
  {
   "cell_type": "code",
   "execution_count": 6,
   "id": "85cd8435-d313-42fe-9e37-958986cd43b3",
   "metadata": {},
   "outputs": [
    {
     "name": "stdout",
     "output_type": "stream",
     "text": [
      "[INFO] length of array before adding element:  2\n",
      "[INFO] length of array after adding element:  3\n",
      "[INFO] current elements in list:  ['tiger', 'horse', 'donkey']\n",
      "[INFO] elements after pop method:  ['tiger', 'donkey']\n"
     ]
    }
   ],
   "source": [
    "animals=['tiger', 'horse']\n",
    "print(\"[INFO] length of array before adding element: \", len(animals))\n",
    "animals.append(\"donkey\")\n",
    "print(\"[INFO] length of array after adding element: \", len(animals))\n",
    "print(\"[INFO] current elements in list: \", animals)\n",
    "animals.pop(1)\n",
    "print(\"[INFO] elements after pop method: \", animals)\n"
   ]
  },
  {
   "cell_type": "markdown",
   "id": "105bf52c-2f09-483e-8826-816e727e4aca",
   "metadata": {},
   "source": [
    "---"
   ]
  },
  {
   "cell_type": "markdown",
   "id": "6fe5afd5-2e04-43c0-80e1-6e50d4f20ff7",
   "metadata": {},
   "source": [
    "## Queues  \n",
    "A liner data structure, where data is stored in a FIFO (first in, first out) order.   \n",
    "You can only pull out the next oldest element, *FIFO*.  \n",
    "Queues are used for order-sensitive tasks.  \n",
    "  \n",
    "It is best practice to use the `deque` class from Python's `collections` module. This is optimized for the append and pop operations. It also allows for the creation of **double-ended queues**, that can access both sides of the queue through the `popleft()` and `popright()` methods.\n"
   ]
  },
  {
   "cell_type": "code",
   "execution_count": 7,
   "id": "642ffde9-c764-45c5-8a2a-e1473ddad6bc",
   "metadata": {},
   "outputs": [],
   "source": [
    "from collections import deque \n",
    "\n",
    "# initialize a queue"
   ]
  },
  {
   "cell_type": "code",
   "execution_count": null,
   "id": "f41e71e2-1d63-42f1-8a10-cfb5bf92e6bc",
   "metadata": {},
   "outputs": [],
   "source": []
  },
  {
   "cell_type": "code",
   "execution_count": null,
   "id": "27742d2f-4b17-4751-9d13-eaf761f2ec38",
   "metadata": {},
   "outputs": [],
   "source": []
  }
 ],
 "metadata": {
  "kernelspec": {
   "display_name": "Python 3",
   "language": "python",
   "name": "python3"
  },
  "language_info": {
   "codemirror_mode": {
    "name": "ipython",
    "version": 3
   },
   "file_extension": ".py",
   "mimetype": "text/x-python",
   "name": "python",
   "nbconvert_exporter": "python",
   "pygments_lexer": "ipython3",
   "version": "3.8.10"
  }
 },
 "nbformat": 4,
 "nbformat_minor": 5
}
