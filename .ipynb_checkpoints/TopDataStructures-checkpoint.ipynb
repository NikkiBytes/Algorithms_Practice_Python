{
 "cells": [
  {
   "cell_type": "markdown",
   "id": "854171b9-7bd2-44c8-9814-ac147d707de1",
   "metadata": {},
   "source": [
    "# Top Python Data Structures"
   ]
  },
  {
   "cell_type": "markdown",
   "id": "fe6447cb-d775-4fe9-a73c-e6d96a4b0acb",
   "metadata": {},
   "source": [
    "---"
   ]
  },
  {
   "cell_type": "markdown",
   "id": "f23a93ec-8ab1-4f73-82ee-d5365c6412f4",
   "metadata": {},
   "source": [
    "## Arrays  \n",
    "Unlike other languages with static arrays, Python's arrays automatically scale up or down when adding or subtracting elements.  \n",
    "Access elements by <u>index</u>.\n",
    "  \n",
    "**Advantages:**  \n",
    "- simple to use and create  \n",
    "- automatically scales for sizing adjustments  \n",
    "- can be used to create more complex data structures  \n",
    "**Disadvantages:**  \n",
    "- not optimized for scientific data  \n",
    "- can only manipulate the rightmost end of the list  \n",
    "**Common Applications:**  \n",
    "- data collections for quick looping  \n",
    "- storage of data structures, such as a list of tuples  \n",
    "- shared storage of related values or objects  "
   ]
  },
  {
   "cell_type": "code",
   "execution_count": 6,
   "id": "85cd8435-d313-42fe-9e37-958986cd43b3",
   "metadata": {},
   "outputs": [
    {
     "name": "stdout",
     "output_type": "stream",
     "text": [
      "[INFO] length of array before adding element:  2\n",
      "[INFO] length of array after adding element:  3\n",
      "[INFO] current elements in list:  ['tiger', 'horse', 'donkey']\n",
      "[INFO] elements after pop method:  ['tiger', 'donkey']\n"
     ]
    }
   ],
   "source": [
    "animals=['tiger', 'horse']\n",
    "print(\"[INFO] length of array before adding element: \", len(animals))\n",
    "animals.append(\"donkey\")\n",
    "print(\"[INFO] length of array after adding element: \", len(animals))\n",
    "print(\"[INFO] current elements in list: \", animals)\n",
    "animals.pop(1)\n",
    "print(\"[INFO] elements after pop method: \", animals)\n"
   ]
  },
  {
   "cell_type": "markdown",
   "id": "105bf52c-2f09-483e-8826-816e727e4aca",
   "metadata": {},
   "source": [
    "---"
   ]
  },
  {
   "cell_type": "markdown",
   "id": "6fe5afd5-2e04-43c0-80e1-6e50d4f20ff7",
   "metadata": {
    "tags": []
   },
   "source": [
    "## Queues  \n",
    "A liner data structure, where data is stored in a FIFO (first in, first out) order.   \n",
    "You can only pull out the next oldest element, *FIFO*.  \n",
    "Queues are used for order-sensitive tasks.  \n",
    "  \n",
    "It is best practice to use the `deque` class from Python's `collections` module. This is optimized for the append and pop operations. It also allows for the creation of **double-ended queues**, that can access both sides of the queue through the `popleft()` and `popright()` methods.\n",
    "  \n",
    "**Advantages:**  \n",
    "- data is automatically ordered data chronologically  \n",
    "- scales to meet size requirements  \n",
    "- time efficient when using `deque` class  \n",
    "  \n",
    "**Disadvantages:**  \n",
    "- Can only access data on the ends   \n"
   ]
  },
  {
   "cell_type": "code",
   "execution_count": 14,
   "id": "642ffde9-c764-45c5-8a2a-e1473ddad6bc",
   "metadata": {},
   "outputs": [
    {
     "name": "stdout",
     "output_type": "stream",
     "text": [
      "[INFO] Initial queue:  deque(['dog', 'cat', 'bird'])\n",
      "[INFO] The elements dequeued from the queue ...\n",
      "[INFO] removing... dog\n",
      "[INFO] removing... cat\n",
      "[INFO] removing... bird\n",
      "[INFO] The queue after removal of elements:  deque([])\n"
     ]
    }
   ],
   "source": [
    "from collections import deque \n",
    "\n",
    "# initialize a queue  \n",
    "q = deque() \n",
    "\n",
    "# adding elements to a queue\n",
    "q.append('dog')\n",
    "q.append('cat')\n",
    "q.append('bird')\n",
    "\n",
    "print(\"[INFO] Initial queue: \", q)\n",
    "\n",
    "# removing elements from a queue \n",
    "print('[INFO] The elements dequeued from the queue ...')\n",
    "print('[INFO] removing...', q.popleft())\n",
    "print('[INFO] removing...', q.popleft())\n",
    "print('[INFO] removing...', q.popleft())\n",
    "\n",
    "print('[INFO] The queue after removal of elements: ', q)\n"
   ]
  },
  {
   "cell_type": "markdown",
   "id": "1cdf6649-86ac-4056-9e47-e9592df5c99c",
   "metadata": {},
   "source": [
    "---"
   ]
  },
  {
   "cell_type": "markdown",
   "id": "c484ac21-3ebf-413f-8f90-407b63f06e0d",
   "metadata": {},
   "source": [
    "## Stacks  \n",
    "Sequential data structure that follow the LIFO (Last in First out). The last element inserted in a stack is considered at the top of the stack and is the only accessible element.   \n",
    "  \n",
    "Adding elements are known as a **push**, while removing elements is known as **pop**.   \n",
    "  \n",
    "  \n",
    "**Advantages:**  \n",
    "- LIFO  \n",
    "- automatic scaling and object cleanup  \n",
    "- simple and reliable data storage  \n",
    "  \n",
    "**Disadvantages:**  \n",
    "- stack memory is limited  \n",
    "- too many objects can lead to a stack overflow error"
   ]
  },
  {
   "cell_type": "code",
   "execution_count": 17,
   "id": "5caad707-66a1-4032-9063-05a72a2f19ee",
   "metadata": {},
   "outputs": [
    {
     "name": "stdout",
     "output_type": "stream",
     "text": [
      "[INFO] Initial stack:  ['cat', 'bat', 'horse']\n",
      "[INFO] Elements popped from stack: \n",
      "[INFO] popping element 1...  horse\n",
      "[INFO] popping element 2...  bat\n",
      "[INFO] popping element 3...  cat\n"
     ]
    }
   ],
   "source": [
    "stack = [] \n",
    "\n",
    "# append() function to push\n",
    "# element in the stack \n",
    "stack.append('cat')\n",
    "stack.append('bat')\n",
    "stack.append('horse')  \n",
    "\n",
    "print('[INFO] Initial stack: ', stack)\n",
    "\n",
    "# pop() function to pop element from stack in LIFO order\n",
    "print(\"[INFO] Elements popped from stack: \")\n",
    "print(\"[INFO] popping element 1... \", stack.pop())\n",
    "print(\"[INFO] popping element 2... \", stack.pop())\n",
    "print(\"[INFO] popping element 3... \", stack.pop())\n"
   ]
  },
  {
   "cell_type": "markdown",
   "id": "934c7732-48a7-4882-9385-7fc3345ab90a",
   "metadata": {},
   "source": [
    "---"
   ]
  }
 ],
 "metadata": {
  "kernelspec": {
   "display_name": "Python 3",
   "language": "python",
   "name": "python3"
  },
  "language_info": {
   "codemirror_mode": {
    "name": "ipython",
    "version": 3
   },
   "file_extension": ".py",
   "mimetype": "text/x-python",
   "name": "python",
   "nbconvert_exporter": "python",
   "pygments_lexer": "ipython3",
   "version": "3.8.10"
  }
 },
 "nbformat": 4,
 "nbformat_minor": 5
}
