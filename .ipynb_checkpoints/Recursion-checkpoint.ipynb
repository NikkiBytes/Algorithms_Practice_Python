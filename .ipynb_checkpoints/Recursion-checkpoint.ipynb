{
 "cells": [
  {
   "cell_type": "markdown",
   "id": "a67e67f1-0580-4d7f-ae14-0eb14de17b6c",
   "metadata": {},
   "source": [
    "# Recursion "
   ]
  },
  {
   "cell_type": "markdown",
   "id": "1fe19f53-dc5c-440d-98d4-79764c850b82",
   "metadata": {},
   "source": [
    "Method of breaking apart a problem into smaller repeatable subtasks. The subtasks are completed and later combined to achieve a solution.   \n",
    "  \n",
    "**A recursive function calls itself**, *directly or indirectly* during execution. Usually the call comes at the end of another operation with passed data, this is called **tail recursion**. A looping structure is formed, repeating the operation until the exit condition is met.  \n",
    "  \n",
    "The solution is known as the **base case**. "
   ]
  },
  {
   "cell_type": "markdown",
   "id": "1966720c-7fa2-4d13-8d75-62c8e0ea92f6",
   "metadata": {},
   "source": [
    "## Base Case  \n",
    "\n",
    "The state where the program's solution has been reached. This must be achievable to avoid to avoid an infinite loop. The recursive method is built with two paths: the method first checks if the base state has been reached, if yes, the method ends and returns the current data, if not the method instead goes the other path and executes the recursive case, where the input is altered and the method is called again.  \n",
    "  \n",
    "## Cell Stack  \n",
    "An integrated, hidden data structure. By storing active subroutines in a stack structure, the program is able to execute subroutines in the order they were received.   \n",
    "  \n",
    "Each recursive call in a program causes a nesting effecSt in the call stack, adding more subroutines that must be finished before the stack is empty. Simply put, *the larger the call stack, the more memory and time is needed for the program to run*.   \n",
    "  \n",
    "## Tail Recursion  \n",
    "A tail recursion is when the recursive call for the next cycle is the final statement in a method.  \n",
    "  \n",
    "Tail end recursion is considered good practice when possible.  \n",
    "  \n",
    "Compilers recognize that a tail ended method has completed all the operations within that call. The program then doesn't need to store the instance of that call, known as the **call frame**.  \n",
    "  \n",
    "Modern compilers automatically recognize this and therefore perform **tail call elimination**, which eliminates all completed methods from the call stack.  \n",
    "  \n",
    "The compilers use tail call elimination to simplify program execution and free up memory and the program stores the currently executed call frame.  \n",
    "  \n",
    "\n",
    "\n"
   ]
  },
  {
   "cell_type": "markdown",
   "id": "20e63965-cfc4-48bb-af87-18d5d61936d4",
   "metadata": {},
   "source": [
    "---  \n",
    "\n",
    "## Three Ways to Implement a Recursive Call: Direct, Indirect, and Anonymous    \n"
   ]
  },
  {
   "cell_type": "markdown",
   "id": "f2091f5e-bdf7-4b87-913b-f7768afa8b91",
   "metadata": {},
   "source": [
    "  \n",
    "### Direct Recursion  \n",
    "Direct recursion is when the recursive method is plainly called by name. This is the most common type of recursion.  \n"
   ]
  },
  {
   "cell_type": "code",
   "execution_count": 3,
   "id": "916968d5-7ed8-46a7-b8d7-e0844735d5c5",
   "metadata": {},
   "outputs": [
    {
     "name": "stdout",
     "output_type": "stream",
     "text": [
      "1\n",
      "2\n",
      "3\n",
      "4\n",
      "5\n"
     ]
    }
   ],
   "source": [
    "def directRecursion(lowerRange, upperRange):\n",
    "    # The Base Case\n",
    "    if lowerRange > upperRange:\n",
    "        return \n",
    "    \n",
    "    print(lowerRange)  \n",
    "    \n",
    "    # Recursive case \n",
    "    directRecursion(lowerRange + 1, upperRange);\n",
    "    \n",
    "# Driver Code\n",
    "n=5\n",
    "directRecursion(1,n)\n",
    "    "
   ]
  },
  {
   "cell_type": "markdown",
   "id": "5c024234-7b96-4c6b-9bbb-74c9c01ca5eb",
   "metadata": {},
   "source": [
    "### Indirect Recursion  \n",
    "Indirect recursion is when a method calls another method which in turn call the first.  \n",
    "  \n",
    "It is recursive because the first method's execution still leads to another execution of itself. This method is less common than direct recursion but may be useful in certain situations.  \n",
    "  \n"
   ]
  },
  {
   "cell_type": "code",
   "execution_count": 5,
   "id": "03fcea30-9513-4c99-ba82-b78ed71b1082",
   "metadata": {},
   "outputs": [
    {
     "name": "stdout",
     "output_type": "stream",
     "text": [
      "1\n",
      "2\n",
      "3\n",
      "4\n",
      "5\n"
     ]
    }
   ],
   "source": [
    "def indirectRecursion(lowerRange, upperRange):\n",
    "    if lowerRange <= upperRange:\n",
    "        print(lowerRange)\n",
    "        lowerRange += 1\n",
    "        helperFunction(lowerRange, upperRange)\n",
    "    else:\n",
    "        return\n",
    "    \n",
    "def helperFunction(lowerRange, upperRange):\n",
    "    if lowerRange <= upperRange:\n",
    "        print(lowerRange)\n",
    "        lowerRange+=1\n",
    "        indirectRecursion(lowerRange, upperRange)\n",
    "    else:\n",
    "        return\n",
    "    \n",
    "# Driver Program\n",
    "n=5\n",
    "indirectRecursion(1, n)"
   ]
  },
  {
   "cell_type": "markdown",
   "id": "64a263b3-2a13-4189-8667-d8f86b2bd4d6",
   "metadata": {},
   "source": [
    "### Anonymous Recursion  \n",
    "Anonynmous recursion is an advanced form of recursive call where no method is called by name.  \n",
    "  \n",
    "Recursion occurs by a higher-order function passing in the recursive method as an argument. The higher-order function then calls it directly or through reflection features which call the method in a particular context. It is considered poor practice, the code is longer and less clear.  "
   ]
  },
  {
   "cell_type": "markdown",
   "id": "709d3d2d-88f1-4d0d-9999-e508e96147a6",
   "metadata": {},
   "source": [
    "---  \n",
    "## Structural vs. Generative Recursion    \n"
   ]
  },
  {
   "cell_type": "markdown",
   "id": "c44758c3-db3b-4b7c-8edc-4c66d7984966",
   "metadata": {},
   "source": [
    "### Structural  \n",
    "Structurally recursive methods use part of the original input as a passed argument.  \n",
    "  \n",
    "  \n",
    "The direct recursion example above also used structural recursion:\n"
   ]
  },
  {
   "cell_type": "code",
   "execution_count": null,
   "id": "87c30f37-0195-4ee4-b43c-ab560f27b284",
   "metadata": {},
   "outputs": [],
   "source": [
    "def directRecursion(lowerRange, upperRange):\n",
    "    # The Base Case\n",
    "    if lowerRange > upperRange:\n",
    "        return \n",
    "    \n",
    "    print(lowerRange)  \n",
    "    \n",
    "    # Recursive and Structural case \n",
    "    directRecursion(lowerRange + 1, upperRange); \n",
    "    \n",
    "# Driver Code\n",
    "n=5\n",
    "directRecursion(1,n)\n",
    "    "
   ]
  },
  {
   "cell_type": "markdown",
   "id": "3e5eb698-d864-4457-b975-a7919a9647f7",
   "metadata": {},
   "source": [
    "### Generative   \n",
    "Generative recursion methods hand compute or 'generate' new data as the input for each recursive call.    \n",
    "  \n",
    "  \n",
    " In this example of the Euclidean algorithm, we can see that gcdRec is generative because it uses the modulo of a and b rather than a or b themselves.\n"
   ]
  },
  {
   "cell_type": "code",
   "execution_count": 7,
   "id": "d5545aa7-855c-4309-beb9-64b9b05b531d",
   "metadata": {},
   "outputs": [
    {
     "data": {
      "text/plain": [
       "1"
      ]
     },
     "execution_count": 7,
     "metadata": {},
     "output_type": "execute_result"
    }
   ],
   "source": [
    "def generativeRecursion(a, b):\n",
    "    # Base Case\n",
    "    if b == 0:\n",
    "        return a; \n",
    "    \n",
    "    # Generative, direct recursion\n",
    "    return generativeRecursion(b, a%b);\n",
    "\n",
    "a=2\n",
    "b=3\n",
    "generativeRecursion(a,b)"
   ]
  },
  {
   "cell_type": "markdown",
   "id": "67c7b3e7-3212-4fcc-b7ea-08c8c4702d71",
   "metadata": {},
   "source": [
    "## Benefits and Limitations of Recursion  \n"
   ]
  },
  {
   "cell_type": "code",
   "execution_count": null,
   "id": "307aabfa-c4f2-4561-9a8b-bb67aeccfbb4",
   "metadata": {},
   "outputs": [],
   "source": []
  },
  {
   "cell_type": "code",
   "execution_count": null,
   "id": "aa8f1860-93ef-4354-8cf7-5dd3484bcbc7",
   "metadata": {},
   "outputs": [],
   "source": []
  },
  {
   "cell_type": "markdown",
   "id": "1d5fc6b6-391c-4cef-81f3-6592833260e6",
   "metadata": {},
   "source": [
    "---"
   ]
  }
 ],
 "metadata": {
  "kernelspec": {
   "display_name": "Python 3",
   "language": "python",
   "name": "python3"
  },
  "language_info": {
   "codemirror_mode": {
    "name": "ipython",
    "version": 3
   },
   "file_extension": ".py",
   "mimetype": "text/x-python",
   "name": "python",
   "nbconvert_exporter": "python",
   "pygments_lexer": "ipython3",
   "version": "3.8.10"
  }
 },
 "nbformat": 4,
 "nbformat_minor": 5
}
