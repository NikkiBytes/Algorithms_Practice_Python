{
 "cells": [
  {
   "cell_type": "markdown",
   "source": [
    "# Object Oriented Programming (OOP) in Python  \r\n",
    "    \r\n",
    "      \r\n",
    "        \r\n",
    "          \r\n",
    "Reasons for OOP: reusable, logical, inheritance, efficient(DRY principle)  \r\n",
    "  \r\n",
    "4 main principles of OOP-  \r\n",
    "1. inheritance  \r\n",
    "2. encapsulation  \r\n",
    "3. abstrction  \r\n",
    "4. polymorphism  \r\n",
    "  \r\n",
    "  \r\n",
    "  \r\n",
    "## OOP in Python  \r\n",
    "Python is a multi-paradigm programming language, supporting OOP and other paradigms. **To achieve OOP in Python, use classes.**  \r\n"
   ],
   "metadata": {}
  },
  {
   "cell_type": "code",
   "execution_count": 5,
   "source": [
    "# Turn this into OOP\r\n",
    "cat_marilyn=['marilyn', 4, \"black\", \"dmsh\"]\r\n",
    "print(cat_marilyn)\r\n",
    "\r\n",
    "# OOP Implementation\r\n",
    "#cat_marilyn = Cat('marilyn', 4, \"black\", \"dmsh\")\r\n"
   ],
   "outputs": [
    {
     "output_type": "stream",
     "name": "stdout",
     "text": [
      "['marilyn', 4, 'black', 'dmsh']\n"
     ]
    }
   ],
   "metadata": {}
  },
  {
   "cell_type": "code",
   "execution_count": 7,
   "source": [
    "# Class definition in Python \r\n",
    "\r\n",
    "class Cat:\r\n",
    "    # define properties\r\n",
    "    name=None\r\n",
    "    age=None\r\n",
    "    color=None\r\n",
    "    breed=None\r\n"
   ],
   "outputs": [],
   "metadata": {}
  },
  {
   "cell_type": "markdown",
   "source": [
    "```__init___``` , the initializer method is unique because it has a predefined name, and does not have a return value. The program automatically calls the initializer method when a new object from that class is created.  \r\n",
    "  \r\n",
    "    \r\n",
    "An initializer method should accept the special ```self``` parameter then all class properties as parameters.   \r\n",
    "  \r\n",
    "  \r\n",
    "[More here](https://www.educative.io/blog/how-to-use-oop-in-python)"
   ],
   "metadata": {}
  },
  {
   "cell_type": "code",
   "execution_count": 19,
   "source": [
    "class Cat: \r\n",
    "    # defines the initializer method\r\n",
    "    def __init__(self, name, age, color, breed ):\r\n",
    "        self.name = name\r\n",
    "        self.age = age\r\n",
    "        self.color = color\r\n",
    "        self.breed = breed\r\n",
    "\r\n",
    "    # Instance Method\r\n",
    "    def printInfo(self):\r\n",
    "        return f\"Cat : {self.name}, \\nage: {self.age} color: {self.color}, breed: {self.breed}\"\r\n",
    "\r\n",
    "# creates an object of the Cat class\r\n",
    "tiny = Cat(\"Tiny\", 4, \"black\", \"dmsh\")\r\n",
    "print(\"Our newly created class:\", tiny.printInfo())\r\n"
   ],
   "outputs": [
    {
     "output_type": "stream",
     "name": "stdout",
     "text": [
      "Our newly created class: Cat : Tiny, \n",
      "age: 4 color: black, breed: dmsh\n"
     ]
    }
   ],
   "metadata": {}
  },
  {
   "cell_type": "code",
   "execution_count": null,
   "source": [],
   "outputs": [],
   "metadata": {}
  },
  {
   "cell_type": "markdown",
   "source": [
    "---"
   ],
   "metadata": {}
  }
 ],
 "metadata": {
  "orig_nbformat": 4,
  "language_info": {
   "name": "python",
   "version": "3.8.10",
   "mimetype": "text/x-python",
   "codemirror_mode": {
    "name": "ipython",
    "version": 3
   },
   "pygments_lexer": "ipython3",
   "nbconvert_exporter": "python",
   "file_extension": ".py"
  },
  "kernelspec": {
   "name": "python3",
   "display_name": "Python 3.8.10 64-bit ('base': conda)"
  },
  "interpreter": {
   "hash": "e342038c98f7d4213227a89db7f796ea1c670485a252fec9cf20c3f8cd429f5d"
  }
 },
 "nbformat": 4,
 "nbformat_minor": 2
}